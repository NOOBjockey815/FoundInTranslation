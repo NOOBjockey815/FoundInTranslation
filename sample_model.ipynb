{
 "cells": [
  {
   "cell_type": "code",
   "execution_count": 7,
   "metadata": {},
   "outputs": [],
   "source": [
    "import torch\n",
    "from gensim.models import Word2Vec\n",
    "import torch.nn as nn\n",
    "import cv2"
   ]
  },
  {
   "cell_type": "code",
   "execution_count": 8,
   "metadata": {},
   "outputs": [
    {
     "data": {
      "text/plain": [
       "(16,)"
      ]
     },
     "execution_count": 8,
     "metadata": {},
     "output_type": "execute_result"
    }
   ],
   "source": [
    "w2v = Word2Vec.load(\"bare_minimum\")\n",
    "w2v.wv[\"bear\"].shape"
   ]
  },
  {
   "cell_type": "code",
   "execution_count": 11,
   "metadata": {},
   "outputs": [
    {
     "data": {
      "text/plain": [
       "10"
      ]
     },
     "execution_count": 11,
     "metadata": {},
     "output_type": "execute_result"
    }
   ],
   "source": [
    "w2v.wv.__len__()"
   ]
  },
  {
   "cell_type": "code",
   "execution_count": 75,
   "metadata": {},
   "outputs": [],
   "source": [
    "class Encoder(nn.Module):\n",
    "    def __init__(self):\n",
    "        super().__init__()\n",
    "        self.dense1 = nn.Linear(16, 256)\n",
    "        \n",
    "        self.upsample1 = nn.ConvTranspose2d(1, 1, 3, 2, 1, 1)\n",
    "        self.upsample2 = nn.ConvTranspose2d(1, 1, 3, 2, 1, 1)\n",
    "        self.upsample3 = nn.ConvTranspose2d(1, 1, 3, 2, 1, 1)\n",
    "        self.upsample4 = nn.ConvTranspose2d(1, 1, 3, 2, 1, 1)\n",
    "        \n",
    "        self.mesh = nn.Conv2d(4, 3, 3, padding=1)\n",
    "        \n",
    "    def forward(self, word_vec, simage):\n",
    "        \n",
    "        x = self.dense1(word_vec)\n",
    "        x = nn.functional.relu(x)\n",
    "        \n",
    "        x = x.reshape((-1,1,16,16))\n",
    "        \n",
    "        x = self.upsample1(x)\n",
    "        x = nn.functional.relu(x)\n",
    "        x = self.upsample2(x)\n",
    "        x = nn.functional.relu(x)\n",
    "        x = self.upsample3(x)\n",
    "        x = nn.functional.relu(x)\n",
    "        x = self.upsample4(x)\n",
    "        x = nn.functional.relu(x)\n",
    "        \n",
    "        x = torch.concat((simage, x), dim=1)\n",
    "        print(x.shape)\n",
    "        return self.mesh(x)\n",
    "    \n",
    "class Decoder(nn.Module):\n",
    "    def __init__(self):\n",
    "        super().__init__()\n",
    "        \n",
    "        self.conv1 = nn.Conv2d(3, 3, 3, padding=1)\n",
    "        self.conv2 = nn.Conv2d(3, 3, 3, padding=1)\n",
    "        self.conv3 = nn.Conv2d(3, 3, 3, padding=1)\n",
    "        \n",
    "        self.pool1 = nn.MaxPool2d(2)\n",
    "        self.conv4 = nn.Conv2d(3, 3, 3, padding=1)\n",
    "        self.pool2 = nn.MaxPool2d(2)\n",
    "        self.conv5 = nn.Conv2d(3,6,3,padding=1)\n",
    "        self.pool3 = nn.MaxPool2d(2)\n",
    "        self.conv6 = nn.Conv2d(6,1,3,padding=1)\n",
    "        self.pool4 = nn.MaxPool2d(2)\n",
    "        \n",
    "        self.flatten = nn.Flatten()\n",
    "        self.classify1 = nn.Linear(272,64)\n",
    "        self.classify2 = nn.Linear(64, 10)\n",
    "        \n",
    "        self.next = nn.Conv2d(3,3,5,padding=2)\n",
    "        \n",
    "    def forward(self, input, context):\n",
    "        \n",
    "        x = self.conv1(input)\n",
    "        x = nn.functional.relu(x)\n",
    "        x = self.conv2(x)\n",
    "        x = nn.functional.relu(x)\n",
    "        x = self.conv3(x)\n",
    "        x = nn.functional.relu(x)\n",
    "        \n",
    "        c = self.pool1(x)\n",
    "        c = self.conv4(c)\n",
    "        c = nn.functional.relu(c)\n",
    "        c = self.pool2(c)\n",
    "        c = self.conv5(c)\n",
    "        c = nn.functional.relu(c)\n",
    "        c = self.pool3(c)\n",
    "        c = self.conv6(c)\n",
    "        c = nn.functional.relu(c)\n",
    "        c = self.pool4(c)\n",
    "\n",
    "        c = self.flatten(c)\n",
    "        c = torch.concat((c, context), dim=1)\n",
    "        c = self.classify1(c)\n",
    "        c = nn.functional.relu(c)\n",
    "        c = self.classify2(c)\n",
    "        \n",
    "        return nn.functional.relu(c)"
   ]
  },
  {
   "cell_type": "code",
   "execution_count": 76,
   "metadata": {},
   "outputs": [],
   "source": [
    "enc = Encoder()\n",
    "dec = Decoder()"
   ]
  },
  {
   "cell_type": "code",
   "execution_count": 77,
   "metadata": {},
   "outputs": [
    {
     "name": "stdout",
     "output_type": "stream",
     "text": [
      "torch.Size([1, 4, 256, 256])\n"
     ]
    },
    {
     "data": {
      "text/plain": [
       "tensor([[0.0962, 0.0850, 0.0000, 0.0000, 0.1239, 0.0498, 0.0000, 0.0000, 0.1029,\n",
       "         0.0000]], grad_fn=<ReluBackward0>)"
      ]
     },
     "execution_count": 77,
     "metadata": {},
     "output_type": "execute_result"
    }
   ],
   "source": [
    "a = enc(torch.from_numpy(w2v.wv['bear']), torch.zeros(1,3,256,256))\n",
    "dec(a, torch.zeros(1,16))"
   ]
  },
  {
   "cell_type": "code",
   "execution_count": 78,
   "metadata": {},
   "outputs": [],
   "source": [
    "sentences = [[\"the\", \"bear\", \"is\", \"eating\", \"honey\"],\n",
    "             [\"where\", \"is\", \"the\", \"hospital\"],\n",
    "             [\"students\", \"are\", \"striking\"]]"
   ]
  },
  {
   "cell_type": "code",
   "execution_count": 79,
   "metadata": {},
   "outputs": [],
   "source": [
    "# define optim\n",
    "crit_words = nn.CrossEntropyLoss()\n",
    "crit_image = nn.MSELoss()\n",
    "\n",
    "s = nn.ModuleList([enc,dec])\n",
    "\n",
    "optim = torch.optim.Adam(s.parameters())"
   ]
  },
  {
   "cell_type": "code",
   "execution_count": null,
   "metadata": {},
   "outputs": [
    {
     "name": "stdout",
     "output_type": "stream",
     "text": [
      "torch.Size([1, 4, 256, 256])\n",
      "torch.Size([1, 4, 256, 256])\n",
      "torch.Size([1, 4, 256, 256])\n",
      "torch.Size([1, 4, 256, 256])\n",
      "torch.Size([1, 4, 256, 256])\n",
      "torch.Size([1, 4, 256, 256])\n",
      "torch.Size([1, 4, 256, 256])\n",
      "torch.Size([1, 4, 256, 256])\n",
      "torch.Size([1, 4, 256, 256])\n",
      "torch.Size([1, 4, 256, 256])\n",
      "torch.Size([1, 4, 256, 256])\n",
      "torch.Size([1, 4, 256, 256])\n",
      "torch.Size([1, 4, 256, 256])\n",
      "torch.Size([1, 4, 256, 256])\n",
      "torch.Size([1, 4, 256, 256])\n",
      "torch.Size([1, 4, 256, 256])\n",
      "torch.Size([1, 4, 256, 256])\n",
      "torch.Size([1, 4, 256, 256])\n",
      "torch.Size([1, 4, 256, 256])\n",
      "torch.Size([1, 4, 256, 256])\n",
      "torch.Size([1, 4, 256, 256])\n",
      "torch.Size([1, 4, 256, 256])\n",
      "torch.Size([1, 4, 256, 256])\n",
      "torch.Size([1, 4, 256, 256])\n",
      "torch.Size([1, 4, 256, 256])\n",
      "torch.Size([1, 4, 256, 256])\n",
      "torch.Size([1, 4, 256, 256])\n",
      "torch.Size([1, 4, 256, 256])\n",
      "torch.Size([1, 4, 256, 256])\n",
      "torch.Size([1, 4, 256, 256])\n",
      "torch.Size([1, 4, 256, 256])\n",
      "torch.Size([1, 4, 256, 256])\n",
      "torch.Size([1, 4, 256, 256])\n",
      "torch.Size([1, 4, 256, 256])\n",
      "torch.Size([1, 4, 256, 256])\n",
      "torch.Size([1, 4, 256, 256])\n",
      "torch.Size([1, 4, 256, 256])\n",
      "torch.Size([1, 4, 256, 256])\n",
      "torch.Size([1, 4, 256, 256])\n",
      "torch.Size([1, 4, 256, 256])\n",
      "torch.Size([1, 4, 256, 256])\n",
      "torch.Size([1, 4, 256, 256])\n",
      "torch.Size([1, 4, 256, 256])\n",
      "torch.Size([1, 4, 256, 256])\n",
      "torch.Size([1, 4, 256, 256])\n",
      "torch.Size([1, 4, 256, 256])\n",
      "torch.Size([1, 4, 256, 256])\n",
      "torch.Size([1, 4, 256, 256])\n",
      "torch.Size([1, 4, 256, 256])\n",
      "torch.Size([1, 4, 256, 256])\n",
      "torch.Size([1, 4, 256, 256])\n",
      "torch.Size([1, 4, 256, 256])\n",
      "torch.Size([1, 4, 256, 256])\n",
      "torch.Size([1, 4, 256, 256])\n",
      "torch.Size([1, 4, 256, 256])\n",
      "torch.Size([1, 4, 256, 256])\n",
      "torch.Size([1, 4, 256, 256])\n",
      "torch.Size([1, 4, 256, 256])\n",
      "torch.Size([1, 4, 256, 256])\n",
      "torch.Size([1, 4, 256, 256])\n"
     ]
    }
   ],
   "source": [
    "## Training loop\n",
    "epochs = 5\n",
    "for epoch in range(epochs):\n",
    "    for sent in sentences:\n",
    "        optim.zero_grad()\n",
    "        canvas = torch.zeros(1,3,256,256)\n",
    "        for w in sent:\n",
    "            canvas = enc(torch.from_numpy(w2v.wv[w]), canvas)\n",
    "        # replace zeros with indended image for sentence\n",
    "        loss = crit_image(torch.zeros_like(canvas), canvas)\n",
    "        context = torch.zeros(1,16)\n",
    "        outs = []\n",
    "        for w in sent:\n",
    "            word = dec(canvas, context)\n",
    "            context = word\n",
    "            loss = loss + crit_words(word, torch.tensor([w2v.wv.key_to_index[w]]))\n",
    "            outs.append(word)\n",
    "        loss.backward()\n",
    "        optim.step()"
   ]
  },
  {
   "cell_type": "code",
   "execution_count": null,
   "metadata": {},
   "outputs": [],
   "source": []
  }
 ],
 "metadata": {
  "kernelspec": {
   "display_name": "machine_learning",
   "language": "python",
   "name": "python3"
  },
  "language_info": {
   "codemirror_mode": {
    "name": "ipython",
    "version": 3
   },
   "file_extension": ".py",
   "mimetype": "text/x-python",
   "name": "python",
   "nbconvert_exporter": "python",
   "pygments_lexer": "ipython3",
   "version": "3.11.9"
  }
 },
 "nbformat": 4,
 "nbformat_minor": 2
}
