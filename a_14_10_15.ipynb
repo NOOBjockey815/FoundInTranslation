{
 "cells": [
  {
   "cell_type": "code",
   "execution_count": 1,
   "metadata": {},
   "outputs": [],
   "source": [
    "import torch\n",
    "from gensim.models import Word2Vec\n",
    "import torch.nn as nn\n",
    "import cv2\n",
    "from matplotlib.pyplot import imshow\n",
    "import numpy as np"
   ]
  },
  {
   "cell_type": "code",
   "execution_count": 2,
   "metadata": {},
   "outputs": [
    {
     "data": {
      "text/plain": [
       "(16,)"
      ]
     },
     "execution_count": 2,
     "metadata": {},
     "output_type": "execute_result"
    }
   ],
   "source": [
    "w2v = Word2Vec.load(\"bare_minimum\")\n",
    "w2v.wv[\"bear\"].shape"
   ]
  },
  {
   "cell_type": "code",
   "execution_count": 3,
   "metadata": {},
   "outputs": [
    {
     "data": {
      "text/plain": [
       "10"
      ]
     },
     "execution_count": 3,
     "metadata": {},
     "output_type": "execute_result"
    }
   ],
   "source": [
    "w2v.wv.__len__()"
   ]
  },
  {
   "cell_type": "code",
   "execution_count": 4,
   "metadata": {},
   "outputs": [],
   "source": [
    "bear = cv2.imread(\"bear.jpg\")\n",
    "bear = cv2.resize(bear,(128,128))\n",
    "hospital = cv2.imread(\"hos.png\")\n",
    "hospital = cv2.resize(hospital,(128,128))\n",
    "strike = cv2.imread(\"strike.jpg\")\n",
    "strike = cv2.resize(strike,(128,128))\n",
    "imgs = np.array([(i.reshape(1,3,128,128) / 256).astype(np.float32) for i in [bear, hospital, strike]])"
   ]
  },
  {
   "cell_type": "code",
   "execution_count": 5,
   "metadata": {},
   "outputs": [],
   "source": [
    "class Encoder(nn.Module):\n",
    "    def __init__(self):\n",
    "        super().__init__()\n",
    "        self.dense1 = nn.Linear(16, 256)\n",
    "        \n",
    "        self.upsample1 = nn.ConvTranspose2d(1, 1, 3, 2, 1, 1)\n",
    "        self.upsample2 = nn.ConvTranspose2d(1, 1, 3, 2, 1, 1)\n",
    "        self.upsample3 = nn.ConvTranspose2d(1, 1, 3, 2, 1, 1)\n",
    "        \n",
    "        self.mesh = nn.Conv2d(4, 3, 3, padding=1)\n",
    "        \n",
    "    def forward(self, word_vec, simage):\n",
    "        \n",
    "        x = self.dense1(word_vec)\n",
    "        x = nn.functional.relu(x)\n",
    "        \n",
    "        x = x.reshape((-1,1,16,16))\n",
    "        \n",
    "        x = self.upsample1(x)\n",
    "        x = nn.functional.relu(x)\n",
    "        x = self.upsample2(x)\n",
    "        x = nn.functional.relu(x)\n",
    "        x = self.upsample3(x)\n",
    "        x = nn.functional.relu(x)\n",
    "        \n",
    "        x = torch.concat((simage, x), dim=1)\n",
    "        return self.mesh(x)\n",
    "    \n",
    "class Decoder(nn.Module):\n",
    "    def __init__(self):\n",
    "        super().__init__()\n",
    "        \n",
    "        self.conv1 = nn.Conv2d(3, 3, 3, padding=1)\n",
    "        self.conv2 = nn.Conv2d(3, 3, 3, padding=1)\n",
    "        self.conv3 = nn.Conv2d(3, 3, 3, padding=1)\n",
    "        \n",
    "        self.pool1 = nn.MaxPool2d(2)\n",
    "        self.conv4 = nn.Conv2d(3, 3, 3, padding=1)\n",
    "        self.pool2 = nn.MaxPool2d(2)\n",
    "        self.conv5 = nn.Conv2d(3,6,3,padding=1)\n",
    "        self.pool3 = nn.MaxPool2d(2)\n",
    "        self.conv6 = nn.Conv2d(6,1,3,padding=1)\n",
    "        \n",
    "        self.flatten = nn.Flatten()\n",
    "        self.classify1 = nn.Linear(266,128)\n",
    "        self.classify2 = nn.Linear(128,64)\n",
    "        self.classify3 = nn.Linear(64, 10)\n",
    "        \n",
    "        self.next1 = nn.Conv2d(3,16,3,padding=1)\n",
    "        self.next2 = nn.Conv2d(16,16,3,padding=1)\n",
    "        self.next3 = nn.Conv2d(16, 3, 1)\n",
    "        \n",
    "        \n",
    "    def forward(self, input, context):\n",
    "        \n",
    "        x = self.conv1(input)\n",
    "        x = nn.functional.relu(x)\n",
    "        x = self.conv2(x)\n",
    "        x = nn.functional.relu(x)\n",
    "        x = self.conv3(x)\n",
    "        x = nn.functional.relu(x)\n",
    "        \n",
    "        c = self.pool1(x)\n",
    "        c = self.conv4(c)\n",
    "        c = nn.functional.relu(c)\n",
    "        c = self.pool2(c)\n",
    "        c = self.conv5(c)\n",
    "        c = nn.functional.relu(c)\n",
    "        c = self.pool3(c)\n",
    "        c = self.conv6(c)\n",
    "        c = nn.functional.relu(c)\n",
    "\n",
    "        c = self.flatten(c)\n",
    "        c = torch.concat((c, context), dim=1)\n",
    "        c = self.classify1(c)\n",
    "        c = nn.functional.relu(c)\n",
    "        c = self.classify2(c)\n",
    "        c = nn.functional.relu(c)\n",
    "        c = self.classify3(c)\n",
    "        \n",
    "        n = self.next1(x)\n",
    "        n = self.next2(n)\n",
    "        n = self.next3(n)\n",
    "        \n",
    "        return c, n"
   ]
  },
  {
   "cell_type": "code",
   "execution_count": 6,
   "metadata": {},
   "outputs": [],
   "source": [
    "enc = Encoder()\n",
    "dec = Decoder()"
   ]
  },
  {
   "cell_type": "code",
   "execution_count": 7,
   "metadata": {},
   "outputs": [
    {
     "name": "stderr",
     "output_type": "stream",
     "text": [
      "C:\\Users\\Alexander\\AppData\\Local\\Temp\\ipykernel_3160\\1061091042.py:1: UserWarning: The given NumPy array is not writable, and PyTorch does not support non-writable tensors. This means writing to this tensor will result in undefined behavior. You may want to copy the array to protect its data or make it writable before converting it to a tensor. This type of warning will be suppressed for the rest of this program. (Triggered internally at C:\\actions-runner\\_work\\pytorch\\pytorch\\pytorch\\torch\\csrc\\utils\\tensor_numpy.cpp:209.)\n",
      "  a = enc(torch.from_numpy(w2v.wv['bear']), torch.zeros(1,3,128,128))\n"
     ]
    },
    {
     "data": {
      "text/plain": [
       "(tensor([[-0.0985,  0.0613, -0.0938,  0.0441, -0.0980, -0.0391,  0.0398, -0.1168,\n",
       "           0.0892, -0.0099]], grad_fn=<AddmmBackward0>),\n",
       " tensor([[[[ 0.1490,  0.1586,  0.1586,  ...,  0.1586,  0.1586,  0.1046],\n",
       "           [ 0.1865,  0.1987,  0.1987,  ...,  0.1987,  0.1987,  0.1393],\n",
       "           [ 0.1865,  0.1987,  0.1987,  ...,  0.1987,  0.1987,  0.1393],\n",
       "           ...,\n",
       "           [ 0.1865,  0.1987,  0.1987,  ...,  0.1987,  0.1987,  0.1393],\n",
       "           [ 0.1865,  0.1987,  0.1987,  ...,  0.1987,  0.1987,  0.1393],\n",
       "           [ 0.1612,  0.1861,  0.1861,  ...,  0.1861,  0.1861,  0.1620]],\n",
       " \n",
       "          [[-0.0384, -0.0209, -0.0209,  ..., -0.0209, -0.0209, -0.0492],\n",
       "           [-0.0534, -0.0355, -0.0355,  ..., -0.0355, -0.0355, -0.0579],\n",
       "           [-0.0534, -0.0355, -0.0355,  ..., -0.0355, -0.0355, -0.0579],\n",
       "           ...,\n",
       "           [-0.0534, -0.0355, -0.0355,  ..., -0.0355, -0.0355, -0.0579],\n",
       "           [-0.0534, -0.0355, -0.0355,  ..., -0.0355, -0.0355, -0.0579],\n",
       "           [-0.0757, -0.0623, -0.0623,  ..., -0.0623, -0.0623, -0.0695]],\n",
       " \n",
       "          [[ 0.1374,  0.1425,  0.1425,  ...,  0.1425,  0.1425,  0.1740],\n",
       "           [ 0.1571,  0.1748,  0.1748,  ...,  0.1748,  0.1748,  0.2031],\n",
       "           [ 0.1571,  0.1748,  0.1748,  ...,  0.1748,  0.1748,  0.2031],\n",
       "           ...,\n",
       "           [ 0.1571,  0.1748,  0.1748,  ...,  0.1748,  0.1748,  0.2031],\n",
       "           [ 0.1571,  0.1748,  0.1748,  ...,  0.1748,  0.1748,  0.2031],\n",
       "           [ 0.2040,  0.2172,  0.2172,  ...,  0.2172,  0.2172,  0.2090]]]],\n",
       "        grad_fn=<ConvolutionBackward0>))"
      ]
     },
     "execution_count": 7,
     "metadata": {},
     "output_type": "execute_result"
    }
   ],
   "source": [
    "a = enc(torch.from_numpy(w2v.wv['bear']), torch.zeros(1,3,128,128))\n",
    "dec(a, torch.zeros(1,10))"
   ]
  },
  {
   "cell_type": "code",
   "execution_count": 8,
   "metadata": {},
   "outputs": [],
   "source": [
    "sentences = [[\"the\", \"bear\", \"is\", \"eating\", \"honey\"],\n",
    "             [\"where\", \"is\", \"the\", \"hospital\"],\n",
    "             [\"students\", \"are\", \"striking\"]]\n",
    "images = torch.tensor(imgs)"
   ]
  },
  {
   "cell_type": "code",
   "execution_count": 9,
   "metadata": {},
   "outputs": [],
   "source": [
    "# define optim\n",
    "crit_words = nn.CrossEntropyLoss()\n",
    "crit_image = nn.MSELoss()\n",
    "\n",
    "s = nn.ModuleList([enc,dec])\n",
    "\n",
    "optim = torch.optim.Adam(s.parameters())"
   ]
  },
  {
   "cell_type": "code",
   "execution_count": 10,
   "metadata": {},
   "outputs": [],
   "source": [
    "## Training loop\n",
    "epochs = 50\n",
    "torch.manual_seed(42)\n",
    "for epoch in range(epochs):\n",
    "    sents = []\n",
    "    for img,sent in zip(images,sentences):\n",
    "        optim.zero_grad()\n",
    "        canvas = torch.zeros(1,3,128,128)\n",
    "        for w in sent:\n",
    "            canvas = enc(torch.from_numpy(w2v.wv[w]).float(), canvas)\n",
    "        loss = crit_image(img, canvas)\n",
    "        pic = canvas.clone()\n",
    "        context = torch.zeros(1,10)\n",
    "        outs = []\n",
    "        for w in sent:\n",
    "            word, canvas = dec(canvas, context)\n",
    "            context = word\n",
    "            loss = loss + crit_words(word, torch.tensor([w2v.wv.key_to_index[w]]))\n",
    "            outs.append(word)\n",
    "        loss.backward()\n",
    "        optim.step()\n",
    "        sents.append(outs)"
   ]
  },
  {
   "cell_type": "code",
   "execution_count": 11,
   "metadata": {},
   "outputs": [
    {
     "data": {
      "text/plain": [
       "[['the', 'is', 'is', 'striking', 'striking'],\n",
       " ['the', 'is', 'is', 'striking'],\n",
       " ['the', 'is', 'is']]"
      ]
     },
     "execution_count": 11,
     "metadata": {},
     "output_type": "execute_result"
    }
   ],
   "source": [
    "[[w2v.wv.index_to_key[w.argmax()] for w in sen] for sen in sents]"
   ]
  },
  {
   "cell_type": "code",
   "execution_count": 12,
   "metadata": {},
   "outputs": [
    {
     "data": {
      "text/plain": [
       "<matplotlib.image.AxesImage at 0x210e5ab1fd0>"
      ]
     },
     "execution_count": 12,
     "metadata": {},
     "output_type": "execute_result"
    },
    {
     "data": {
      "image/png": "[encoded data removed]",
      "text/plain": [
       "<Figure size 640x480 with 1 Axes>"
      ]
     },
     "metadata": {},
     "output_type": "display_data"
    }
   ],
   "source": [
    "imshow(nn.functional.sigmoid(pic).detach().numpy().reshape(128,128,3))"
   ]
  }
 ],
 "metadata": {
  "kernelspec": {
   "display_name": "machine_learning",
   "language": "python",
   "name": "python3"
  },
  "language_info": {
   "codemirror_mode": {
    "name": "ipython",
    "version": 3
   },
   "file_extension": ".py",
   "mimetype": "text/x-python",
   "name": "python",
   "nbconvert_exporter": "python",
   "pygments_lexer": "ipython3",
   "version": "3.11.9"
  }
 },
 "nbformat": 4,
 "nbformat_minor": 2
}
