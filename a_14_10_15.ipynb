{
 "cells": [
  {
   "cell_type": "code",
   "execution_count": 1,
   "metadata": {},
   "outputs": [],
   "source": [
    "import torch\n",
    "from gensim.models import Word2Vec\n",
    "import torch.nn as nn\n",
    "import cv2\n",
    "from matplotlib.pyplot import imshow\n",
    "import numpy as np"
   ]
  },
  {
   "cell_type": "code",
   "execution_count": 2,
   "metadata": {},
   "outputs": [
    {
     "data": {
      "text/plain": [
       "(16,)"
      ]
     },
     "execution_count": 2,
     "metadata": {},
     "output_type": "execute_result"
    }
   ],
   "source": [
    "w2v = Word2Vec.load(\"bare_minimum\")\n",
    "w2v.wv[\"bear\"].shape"
   ]
  },
  {
   "cell_type": "code",
   "execution_count": 3,
   "metadata": {},
   "outputs": [
    {
     "data": {
      "text/plain": [
       "10"
      ]
     },
     "execution_count": 3,
     "metadata": {},
     "output_type": "execute_result"
    }
   ],
   "source": [
    "w2v.wv.__len__()"
   ]
  },
  {
   "cell_type": "code",
   "execution_count": 4,
   "metadata": {},
   "outputs": [],
   "source": [
    "bear = cv2.imread(\"bear.jpg\")\n",
    "bear = cv2.resize(bear,(128,128))\n",
    "hospital = cv2.imread(\"hos.png\")\n",
    "hospital = cv2.resize(hospital,(128,128))\n",
    "strike = cv2.imread(\"strike.jpg\")\n",
    "strike = cv2.resize(strike,(128,128))\n",
    "imgs = np.array([(i.reshape(1,3,128,128) / 256).astype(np.float32) for i in [bear, hospital, strike]])"
   ]
  },
  {
   "cell_type": "code",
   "execution_count": 5,
   "metadata": {},
   "outputs": [],
   "source": [
    "class Encoder(nn.Module):\n",
    "    def __init__(self):\n",
    "        super().__init__()\n",
    "        self.dense1 = nn.Linear(16, 256, bias=False)\n",
    "        \n",
    "        self.upsample1 = nn.ConvTranspose2d(1, 1, 3, 2, 1, 1, bias=False)\n",
    "        self.upsample2 = nn.ConvTranspose2d(1, 1, 3, 2, 1, 1, bias=False)\n",
    "        self.upsample3 = nn.ConvTranspose2d(1, 1, 3, 2, 1, 1, bias=False)\n",
    "        \n",
    "        self.mesh = nn.Conv2d(4, 3, 3, padding=1, bias=False)\n",
    "        \n",
    "    def forward(self, word_vec, simage):\n",
    "        \n",
    "        x = self.dense1(word_vec)\n",
    "        x = nn.functional.relu(x)\n",
    "        \n",
    "        x = x.reshape((-1,1,16,16))\n",
    "        \n",
    "        x = self.upsample1(x)\n",
    "        x = nn.functional.relu(x)\n",
    "        x = self.upsample2(x)\n",
    "        x = nn.functional.relu(x)\n",
    "        x = self.upsample3(x)\n",
    "        x = nn.functional.relu(x)\n",
    "        \n",
    "        x = torch.concat((simage, x), dim=1)\n",
    "        return self.mesh(x)\n",
    "    \n",
    "class Decoder(nn.Module):\n",
    "    def __init__(self):\n",
    "        super().__init__()\n",
    "        \n",
    "        self.conv1 = nn.Conv2d(3, 3, 3, padding=1, bias=False)\n",
    "        self.conv2 = nn.Conv2d(3, 3, 3, padding=1, bias=False)\n",
    "        self.conv3 = nn.Conv2d(3, 3, 3, padding=1, bias=False)\n",
    "        \n",
    "        self.pool1 = nn.MaxPool2d(2)\n",
    "        self.conv4 = nn.Conv2d(3, 3, 3, padding=1, bias=False)\n",
    "        self.pool2 = nn.MaxPool2d(2)\n",
    "        self.conv5 = nn.Conv2d(3,6,3,padding=1, bias=False)\n",
    "        self.pool3 = nn.MaxPool2d(2)\n",
    "        self.conv6 = nn.Conv2d(6,1,3,padding=1, bias=False)\n",
    "        \n",
    "        self.flatten = nn.Flatten()\n",
    "        self.classify1 = nn.Linear(266,128, bias=False)\n",
    "        self.classify2 = nn.Linear(128,64, bias=False)\n",
    "        self.classify3 = nn.Linear(64, 10, bias=False)\n",
    "        \n",
    "        self.next1 = nn.Conv2d(3,16,3,padding=1, bias=False)\n",
    "        self.next2 = nn.Conv2d(16,16,3,padding=1, bias=False)\n",
    "        self.next3 = nn.Conv2d(16, 3, 1, bias=False)\n",
    "        \n",
    "        \n",
    "    def forward(self, input, context):\n",
    "        \n",
    "        x = self.conv1(input)\n",
    "        x = nn.functional.relu(x)\n",
    "        x = self.conv2(x)\n",
    "        x = nn.functional.relu(x)\n",
    "        x = self.conv3(x)\n",
    "        x = nn.functional.relu(x)\n",
    "        \n",
    "        c = self.pool1(x)\n",
    "        c = self.conv4(c)\n",
    "        c = nn.functional.relu(c)\n",
    "        c = self.pool2(c)\n",
    "        c = self.conv5(c)\n",
    "        c = nn.functional.relu(c)\n",
    "        c = self.pool3(c)\n",
    "        c = self.conv6(c)\n",
    "        c = nn.functional.relu(c)\n",
    "\n",
    "        c = self.flatten(c)\n",
    "        c = torch.concat((c, context), dim=1)\n",
    "        c = self.classify1(c)\n",
    "        c = nn.functional.relu(c)\n",
    "        c = self.classify2(c)\n",
    "        c = nn.functional.relu(c)\n",
    "        c = self.classify3(c)\n",
    "        \n",
    "        n = self.next1(x)\n",
    "        n = nn.functional.relu(n)\n",
    "        n = self.next2(n)\n",
    "        n = nn.functional.relu(n)\n",
    "        n = self.next3(n)\n",
    "        n = nn.functional.relu(n)\n",
    "        \n",
    "        return c, n"
   ]
  },
  {
   "cell_type": "code",
   "execution_count": 6,
   "metadata": {},
   "outputs": [],
   "source": [
    "enc = Encoder()\n",
    "dec = Decoder()"
   ]
  },
  {
   "cell_type": "code",
   "execution_count": 7,
   "metadata": {},
   "outputs": [
    {
     "name": "stderr",
     "output_type": "stream",
     "text": [
      "C:\\Users\\Alexander\\AppData\\Local\\Temp\\ipykernel_34988\\1061091042.py:1: UserWarning: The given NumPy array is not writable, and PyTorch does not support non-writable tensors. This means writing to this tensor will result in undefined behavior. You may want to copy the array to protect its data or make it writable before converting it to a tensor. This type of warning will be suppressed for the rest of this program. (Triggered internally at C:\\actions-runner\\_work\\pytorch\\pytorch\\pytorch\\torch\\csrc\\utils\\tensor_numpy.cpp:209.)\n",
      "  a = enc(torch.from_numpy(w2v.wv['bear']), torch.zeros(1,3,128,128))\n"
     ]
    },
    {
     "data": {
      "text/plain": [
       "(tensor([[ 2.1947e-08, -4.7476e-09, -4.7672e-09,  1.4027e-08,  6.8247e-09,\n",
       "           9.5047e-09, -1.4778e-08, -6.0012e-09,  9.3722e-10, -4.8217e-09]],\n",
       "        grad_fn=<MmBackward0>),\n",
       " tensor([[[[9.4458e-09, 3.9035e-09, 1.1127e-08,  ..., 4.1755e-10,\n",
       "            4.4806e-10, 4.0908e-10],\n",
       "           [8.6040e-10, 8.7637e-09, 5.5234e-09,  ..., 1.0779e-09,\n",
       "            1.7996e-09, 4.7461e-10],\n",
       "           [1.5368e-08, 2.1244e-08, 1.8766e-08,  ..., 1.9449e-09,\n",
       "            6.9467e-10, 1.6794e-09],\n",
       "           ...,\n",
       "           [3.0063e-10, 7.9680e-10, 1.7284e-09,  ..., 3.6877e-08,\n",
       "            3.2848e-08, 9.8251e-09],\n",
       "           [0.0000e+00, 0.0000e+00, 0.0000e+00,  ..., 3.7274e-08,\n",
       "            0.0000e+00, 1.9763e-08],\n",
       "           [0.0000e+00, 0.0000e+00, 0.0000e+00,  ..., 1.3224e-08,\n",
       "            1.5178e-08, 1.2365e-08]],\n",
       " \n",
       "          [[1.0572e-08, 1.1100e-08, 2.2713e-09,  ..., 1.9589e-10,\n",
       "            4.6192e-10, 2.9073e-10],\n",
       "           [1.5524e-09, 1.0280e-08, 5.0162e-09,  ..., 1.2794e-09,\n",
       "            1.1390e-09, 8.5141e-10],\n",
       "           [1.6603e-09, 9.0015e-09, 2.3745e-08,  ..., 2.2903e-09,\n",
       "            1.8510e-09, 1.2575e-09],\n",
       "           ...,\n",
       "           [6.7050e-11, 4.1051e-10, 5.2424e-10,  ..., 1.8824e-08,\n",
       "            3.9482e-08, 3.1180e-08],\n",
       "           [0.0000e+00, 0.0000e+00, 0.0000e+00,  ..., 1.4900e-08,\n",
       "            2.1893e-08, 2.2546e-08],\n",
       "           [0.0000e+00, 0.0000e+00, 0.0000e+00,  ..., 1.0067e-08,\n",
       "            2.5242e-08, 1.0740e-08]],\n",
       " \n",
       "          [[0.0000e+00, 0.0000e+00, 6.8916e-09,  ..., 4.3677e-11,\n",
       "            0.0000e+00, 0.0000e+00],\n",
       "           [1.0500e-08, 0.0000e+00, 9.1202e-09,  ..., 0.0000e+00,\n",
       "            0.0000e+00, 2.4571e-10],\n",
       "           [0.0000e+00, 0.0000e+00, 0.0000e+00,  ..., 0.0000e+00,\n",
       "            0.0000e+00, 1.0785e-09],\n",
       "           ...,\n",
       "           [0.0000e+00, 0.0000e+00, 0.0000e+00,  ..., 0.0000e+00,\n",
       "            0.0000e+00, 2.2048e-09],\n",
       "           [0.0000e+00, 0.0000e+00, 0.0000e+00,  ..., 0.0000e+00,\n",
       "            2.9711e-09, 0.0000e+00],\n",
       "           [0.0000e+00, 0.0000e+00, 0.0000e+00,  ..., 0.0000e+00,\n",
       "            0.0000e+00, 0.0000e+00]]]], grad_fn=<ReluBackward0>))"
      ]
     },
     "execution_count": 7,
     "metadata": {},
     "output_type": "execute_result"
    }
   ],
   "source": [
    "a = enc(torch.from_numpy(w2v.wv['bear']), torch.zeros(1,3,128,128))\n",
    "dec(a, torch.zeros(1,10))"
   ]
  },
  {
   "cell_type": "code",
   "execution_count": 8,
   "metadata": {},
   "outputs": [],
   "source": [
    "sentences = [[\"the\", \"bear\", \"is\", \"eating\", \"honey\"],\n",
    "             [\"where\", \"is\", \"the\", \"hospital\"],\n",
    "             [\"students\", \"are\", \"striking\"]]\n",
    "images = torch.tensor(imgs)"
   ]
  },
  {
   "cell_type": "code",
   "execution_count": 9,
   "metadata": {},
   "outputs": [],
   "source": [
    "# define optim\n",
    "crit_words = nn.CrossEntropyLoss()\n",
    "crit_image = nn.MSELoss()\n",
    "\n",
    "s = nn.ModuleList([enc,dec])\n",
    "\n",
    "optim = torch.optim.Adam(s.parameters())"
   ]
  },
  {
   "cell_type": "code",
   "execution_count": 15,
   "metadata": {},
   "outputs": [],
   "source": [
    "## Training loop\n",
    "epochs = 150\n",
    "torch.manual_seed(42)\n",
    "for epoch in range(epochs):\n",
    "    sents = []\n",
    "    for img,sent in zip(images,sentences):\n",
    "        optim.zero_grad()\n",
    "        canvas = torch.zeros(1,3,128,128)\n",
    "        for w in sent:\n",
    "            canvas = enc(torch.from_numpy(w2v.wv[w]).float(), canvas)\n",
    "        loss = crit_image(img, canvas)\n",
    "        pic = canvas.clone()\n",
    "        context = torch.zeros(1,10)\n",
    "        outs = []\n",
    "        for w in sent:\n",
    "            word, canvas = dec(canvas, context)\n",
    "            context = word\n",
    "            loss = loss + crit_words(word, torch.tensor([w2v.wv.key_to_index[w]]))\n",
    "            outs.append(word)\n",
    "        loss.backward()\n",
    "        optim.step()\n",
    "        sents.append(outs)"
   ]
  },
  {
   "cell_type": "code",
   "execution_count": 16,
   "metadata": {},
   "outputs": [
    {
     "data": {
      "text/plain": [
       "[['the', 'bear', 'is', 'eating', 'honey'],\n",
       " ['where', 'is', 'the', 'hospital'],\n",
       " ['students', 'are', 'striking']]"
      ]
     },
     "execution_count": 16,
     "metadata": {},
     "output_type": "execute_result"
    }
   ],
   "source": [
    "[[w2v.wv.index_to_key[w.argmax()] for w in sen] for sen in sents]"
   ]
  },
  {
   "cell_type": "code",
   "execution_count": 17,
   "metadata": {},
   "outputs": [
    {
     "data": {
      "text/plain": [
       "<matplotlib.image.AxesImage at 0x18673a44ad0>"
      ]
     },
     "execution_count": 17,
     "metadata": {},
     "output_type": "execute_result"
    },
    {
     "data": {
      "image/png": "[encoded data removed]",
      "text/plain": [
       "<Figure size 640x480 with 1 Axes>"
      ]
     },
     "metadata": {},
     "output_type": "display_data"
    }
   ],
   "source": [
    "imshow(nn.functional.sigmoid(pic).detach().numpy().reshape(128,128,3))"
   ]
  }
 ],
 "metadata": {
  "kernelspec": {
   "display_name": "machine_learning",
   "language": "python",
   "name": "python3"
  },
  "language_info": {
   "codemirror_mode": {
    "name": "ipython",
    "version": 3
   },
   "file_extension": ".py",
   "mimetype": "text/x-python",
   "name": "python",
   "nbconvert_exporter": "python",
   "pygments_lexer": "ipython3",
   "version": "3.11.9"
  }
 },
 "nbformat": 4,
 "nbformat_minor": 2
}
